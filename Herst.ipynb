{
  "nbformat": 4,
  "nbformat_minor": 0,
  "metadata": {
    "colab": {
      "name": "Untitled2.ipynb",
      "provenance": [],
      "authorship_tag": "ABX9TyOy2YeOO1RzQ2OSlUPbMhKv",
      "include_colab_link": true
    },
    "kernelspec": {
      "name": "python3",
      "display_name": "Python 3"
    }
  },
  "cells": [
    {
      "cell_type": "markdown",
      "metadata": {
        "id": "view-in-github",
        "colab_type": "text"
      },
      "source": [
        "<a href=\"https://colab.research.google.com/github/PPeachPie/Herst/blob/Herst_graph/Herst.ipynb\" target=\"_parent\"><img src=\"https://colab.research.google.com/assets/colab-badge.svg\" alt=\"Open In Colab\"/></a>"
      ]
    },
    {
      "cell_type": "code",
      "metadata": {
        "id": "mkdb2FRWBqXh"
      },
      "source": [
        "import numpy as np\r\n",
        "import math\r\n",
        "\r\n",
        "class New_Analysis:\r\n",
        "    def __init__(self, data_y, tau=1, del_tau=1):\r\n",
        "        self.data_y = data_y\r\n",
        "        self.tau = tau\r\n",
        "        self.del_tau = del_tau\r\n",
        "        self.res_g = []\r\n",
        "        self.x = [i for i in np.arange(tau, len(data_y), del_tau)]\r\n",
        "        #[i + 1 for i in range(len(self.data_y))]\r\n",
        "        self.new_y = []\r\n",
        "        self.a = 0\r\n",
        "        self.b = 0\r\n",
        "        self.__average_y = 0\r\n",
        "        self.__result_tuple = []\r\n",
        "        self.analysis()\r\n",
        "\r\n",
        "    def rrange(self, tau, val): # Вычисление размаха для текущего tau\r\n",
        "        s = 0\r\n",
        "        # ave = sum(val)/tau\r\n",
        "        ave = np.average(val)\r\n",
        "        print(val)\r\n",
        "        min = val[0]-ave\r\n",
        "        max = val[0]-ave\r\n",
        "        for i in val:\r\n",
        "            s += i - ave\r\n",
        "            if s < min: min = s\r\n",
        "            if s > max: max = s\r\n",
        "        return max-min\r\n",
        "\r\n",
        "    def SCO(self, tau, val):\r\n",
        "        # medium = sum(val)/tau\r\n",
        "        medium = np.average(val)\r\n",
        "        s = 0\r\n",
        "        for i in val:\r\n",
        "            s += (i - medium)**2\r\n",
        "        return (s / (tau - 0.99999999))**0.5\r\n",
        "\r\n",
        "\r\n",
        "    def analysis(self):\r\n",
        "        self.RS_process()\r\n",
        "\r\n",
        "\r\n",
        "        av_y = np.average(self.new_y)\r\n",
        "        #вычисление вспомогательных величин\r\n",
        "        print(self.x, self.new_y)\r\n",
        "        y_ = [self.Fx(i) for i in self.x]\r\n",
        "        y_av_y = [i - av_y for i in self.new_y]\r\n",
        "        y_av_y_2 = [i**2 for i in y_av_y]\r\n",
        "        ei = [self.new_y[i] - y_[i] for i in range(len(y_))]\r\n",
        "        ei_2 = [i**2 for i in ei]\r\n",
        "        Ai = [abs(1 - (self.new_y[i] / y_[i])) for i in range(len(y_))]\r\n",
        "        delta_ei = [ei[i] - ei[i-1] for i in range(len(ei), 2)]\r\n",
        "        delta_ei_2 = [i**2 for i in delta_ei]\r\n",
        "\r\n",
        "        #вычисление основных показателей и внесение в результирующий лист с показателями\r\n",
        "        r = self.corr_indx(sum(ei_2), sum(y_av_y_2)) #индекс корреляции\r\n",
        "        self.__result_tuple.append(r)\r\n",
        "        self.__result_tuple.append(r**2) #индекс детерминации\r\n",
        "        self.__result_tuple.append(np.average(Ai) * 100) #средняя ошибка детерминации\r\n",
        "        k2 = len(self.data_y)-1 #коэфициент необходимый для вычисления критерия Фишера\r\n",
        "        self.__result_tuple.append(self.fischer_crit(r, k2)) #критерий фишера\r\n",
        "        self.__result_tuple.append(sum(delta_ei_2) / sum(ei_2)) #критерий дарбина-уотсона\r\n",
        "\r\n",
        "    def RS_process(self):\r\n",
        "        # self.ls()\r\n",
        "        print(self.data_y)\r\n",
        "        for i in range(1, len(self.data_y)):\r\n",
        "          def_R = self.rrange(i, self.data_y[:i])\r\n",
        "          def_S = self.SCO(i, self.data_y[:i])\r\n",
        "          if math.isnan(def_R / def_S):\r\n",
        "            self.new_y.append(0)\r\n",
        "          else:\r\n",
        "            self.new_y.append(def_R / def_S)\r\n",
        "          self.x.append(i)\r\n",
        "          self.res_g.append(self.Fx(i))\r\n",
        "        self.new_y = np.array(self.new_y)\r\n",
        "        self.ls()\r\n",
        "        # self.a = self.LS(self.x, self.new_y)[0]\r\n",
        "        # self.b = self.LS(self.x, self.new_y)[1]\r\n",
        "        # for i in self.x:\r\n",
        "        #     self.res_g.append(self.Fx(i))\r\n",
        "\r\n",
        "    def Fx(self, x):\r\n",
        "        return self.a * (x ** self.b)\r\n",
        "\r\n",
        "\r\n",
        "    def ls(self):\r\n",
        "        sX = 0\r\n",
        "        sY = 0\r\n",
        "        sXY = 0\r\n",
        "        sXX = 0\r\n",
        "        x = self.x\r\n",
        "        y = self.new_y\r\n",
        "        n = len(self.new_y)\r\n",
        "        print(self.x, self.new_y)\r\n",
        "        for i in range(len(y)):\r\n",
        "          sX += math.log(x[i])\r\n",
        "          sXX += math.log(x[i]) ** 2\r\n",
        "          if (y[i] > 0):\r\n",
        "            sY += math.log(y[i])\r\n",
        "            sXY += math.log(x[i]) * math.log(y[i])\r\n",
        "        print(n, sX, sY, sXY, sXX)\r\n",
        "        self.b = (n * sXY - sX * sY) / (n * sXX - sX ** 2)\r\n",
        "        self.a = math.exp((sY - self.b * sX) / n)\r\n",
        "        print(self.a, self.b)\r\n",
        "\r\n",
        "    def corr_indx(self, y1, y2):\r\n",
        "        print('here is error')\r\n",
        "        print(y1, y2, 1-(y1/y2))\r\n",
        "        return math.sqrt(1-(y1/y2))\r\n",
        "\r\n",
        "    def fischer_crit(self, r, k2):\r\n",
        "        return r**2 * k2 / (1 - r**2)\r\n",
        "\r\n",
        "    def result_tuple(self):\r\n",
        "        return self.__result_tuple\r\n"
      ],
      "execution_count": 48,
      "outputs": []
    },
    {
      "cell_type": "code",
      "metadata": {
        "colab": {
          "base_uri": "https://localhost:8080/",
          "height": 676
        },
        "id": "TsBD4cZ6Br8n",
        "outputId": "780e9105-c7a7-4a20-85c5-61a1c3f7f592"
      },
      "source": [
        "a = New_Analysis([4.4,  3.6,   3,   2.7,  2.1,  1.8,  1.9,  1.5,  1.4,  1.3,  1.2,  1.1,  1.1], 2.5, 0.5)\r\n",
        "a.analysis()"
      ],
      "execution_count": 49,
      "outputs": [
        {
          "output_type": "stream",
          "text": [
            "[4.4, 3.6, 3, 2.7, 2.1, 1.8, 1.9, 1.5, 1.4, 1.3, 1.2, 1.1, 1.1]\n",
            "[4.4]\n",
            "[4.4, 3.6]\n",
            "[4.4, 3.6, 3]\n",
            "[4.4, 3.6, 3, 2.7]\n",
            "[4.4, 3.6, 3, 2.7, 2.1]\n",
            "[4.4, 3.6, 3, 2.7, 2.1, 1.8]\n",
            "[4.4, 3.6, 3, 2.7, 2.1, 1.8, 1.9]\n",
            "[4.4, 3.6, 3, 2.7, 2.1, 1.8, 1.9, 1.5]\n",
            "[4.4, 3.6, 3, 2.7, 2.1, 1.8, 1.9, 1.5, 1.4]\n",
            "[4.4, 3.6, 3, 2.7, 2.1, 1.8, 1.9, 1.5, 1.4, 1.3]\n",
            "[4.4, 3.6, 3, 2.7, 2.1, 1.8, 1.9, 1.5, 1.4, 1.3, 1.2]\n",
            "[4.4, 3.6, 3, 2.7, 2.1, 1.8, 1.9, 1.5, 1.4, 1.3, 1.2, 1.1]\n",
            "[2.5, 3.0, 3.5, 4.0, 4.5, 5.0, 5.5, 6.0, 6.5, 7.0, 7.5, 8.0, 8.5, 9.0, 9.5, 10.0, 10.5, 11.0, 11.5, 12.0, 12.5, 1, 2, 3, 4, 5, 6, 7, 8, 9, 10, 11, 12] [0.         0.70710678 1.0440738  1.53333334 1.91081893 2.28539309\n",
            " 2.74826574 3.20114347 3.66977004 4.08578464 4.46071356 4.80174135]\n",
            "12 19.176040109013382 9.544478875383378 17.826201918423696 32.180993045173835\n",
            "0.1526189008659532 1.674079444967688\n",
            "[2.5, 3.0, 3.5, 4.0, 4.5, 5.0, 5.5, 6.0, 6.5, 7.0, 7.5, 8.0, 8.5, 9.0, 9.5, 10.0, 10.5, 11.0, 11.5, 12.0, 12.5, 1, 2, 3, 4, 5, 6, 7, 8, 9, 10, 11, 12] [0.         0.70710678 1.0440738  1.53333334 1.91081893 2.28539309\n",
            " 2.74826574 3.20114347 3.66977004 4.08578464 4.46071356 4.80174135]\n"
          ],
          "name": "stdout"
        },
        {
          "output_type": "stream",
          "text": [
            "/usr/local/lib/python3.6/dist-packages/ipykernel_launcher.py:72: RuntimeWarning: invalid value encountered in double_scalars\n"
          ],
          "name": "stderr"
        },
        {
          "output_type": "error",
          "ename": "IndexError",
          "evalue": "ignored",
          "traceback": [
            "\u001b[0;31m---------------------------------------------------------------------------\u001b[0m",
            "\u001b[0;31mIndexError\u001b[0m                                Traceback (most recent call last)",
            "\u001b[0;32m<ipython-input-49-9316d79af909>\u001b[0m in \u001b[0;36m<module>\u001b[0;34m()\u001b[0m\n\u001b[0;32m----> 1\u001b[0;31m \u001b[0ma\u001b[0m \u001b[0;34m=\u001b[0m \u001b[0mNew_Analysis\u001b[0m\u001b[0;34m(\u001b[0m\u001b[0;34m[\u001b[0m\u001b[0;36m4.4\u001b[0m\u001b[0;34m,\u001b[0m  \u001b[0;36m3.6\u001b[0m\u001b[0;34m,\u001b[0m   \u001b[0;36m3\u001b[0m\u001b[0;34m,\u001b[0m   \u001b[0;36m2.7\u001b[0m\u001b[0;34m,\u001b[0m  \u001b[0;36m2.1\u001b[0m\u001b[0;34m,\u001b[0m  \u001b[0;36m1.8\u001b[0m\u001b[0;34m,\u001b[0m  \u001b[0;36m1.9\u001b[0m\u001b[0;34m,\u001b[0m  \u001b[0;36m1.5\u001b[0m\u001b[0;34m,\u001b[0m  \u001b[0;36m1.4\u001b[0m\u001b[0;34m,\u001b[0m  \u001b[0;36m1.3\u001b[0m\u001b[0;34m,\u001b[0m  \u001b[0;36m1.2\u001b[0m\u001b[0;34m,\u001b[0m  \u001b[0;36m1.1\u001b[0m\u001b[0;34m,\u001b[0m  \u001b[0;36m1.1\u001b[0m\u001b[0;34m]\u001b[0m\u001b[0;34m,\u001b[0m \u001b[0;36m2.5\u001b[0m\u001b[0;34m,\u001b[0m \u001b[0;36m0.5\u001b[0m\u001b[0;34m)\u001b[0m\u001b[0;34m\u001b[0m\u001b[0;34m\u001b[0m\u001b[0m\n\u001b[0m\u001b[1;32m      2\u001b[0m \u001b[0ma\u001b[0m\u001b[0;34m.\u001b[0m\u001b[0manalysis\u001b[0m\u001b[0;34m(\u001b[0m\u001b[0;34m)\u001b[0m\u001b[0;34m\u001b[0m\u001b[0;34m\u001b[0m\u001b[0m\n",
            "\u001b[0;32m<ipython-input-48-f3ba4c0b74cc>\u001b[0m in \u001b[0;36m__init__\u001b[0;34m(self, data_y, tau, del_tau)\u001b[0m\n\u001b[1;32m     15\u001b[0m         \u001b[0mself\u001b[0m\u001b[0;34m.\u001b[0m\u001b[0m__average_y\u001b[0m \u001b[0;34m=\u001b[0m \u001b[0;36m0\u001b[0m\u001b[0;34m\u001b[0m\u001b[0;34m\u001b[0m\u001b[0m\n\u001b[1;32m     16\u001b[0m         \u001b[0mself\u001b[0m\u001b[0;34m.\u001b[0m\u001b[0m__result_tuple\u001b[0m \u001b[0;34m=\u001b[0m \u001b[0;34m[\u001b[0m\u001b[0;34m]\u001b[0m\u001b[0;34m\u001b[0m\u001b[0;34m\u001b[0m\u001b[0m\n\u001b[0;32m---> 17\u001b[0;31m         \u001b[0mself\u001b[0m\u001b[0;34m.\u001b[0m\u001b[0manalysis\u001b[0m\u001b[0;34m(\u001b[0m\u001b[0;34m)\u001b[0m\u001b[0;34m\u001b[0m\u001b[0;34m\u001b[0m\u001b[0m\n\u001b[0m\u001b[1;32m     18\u001b[0m \u001b[0;34m\u001b[0m\u001b[0m\n\u001b[1;32m     19\u001b[0m     \u001b[0;32mdef\u001b[0m \u001b[0mrrange\u001b[0m\u001b[0;34m(\u001b[0m\u001b[0mself\u001b[0m\u001b[0;34m,\u001b[0m \u001b[0mtau\u001b[0m\u001b[0;34m,\u001b[0m \u001b[0mval\u001b[0m\u001b[0;34m)\u001b[0m\u001b[0;34m:\u001b[0m \u001b[0;31m# Вычисление размаха для текущего tau\u001b[0m\u001b[0;34m\u001b[0m\u001b[0;34m\u001b[0m\u001b[0m\n",
            "\u001b[0;32m<ipython-input-48-f3ba4c0b74cc>\u001b[0m in \u001b[0;36manalysis\u001b[0;34m(self)\u001b[0m\n\u001b[1;32m     49\u001b[0m         \u001b[0my_av_y\u001b[0m \u001b[0;34m=\u001b[0m \u001b[0;34m[\u001b[0m\u001b[0mi\u001b[0m \u001b[0;34m-\u001b[0m \u001b[0mav_y\u001b[0m \u001b[0;32mfor\u001b[0m \u001b[0mi\u001b[0m \u001b[0;32min\u001b[0m \u001b[0mself\u001b[0m\u001b[0;34m.\u001b[0m\u001b[0mnew_y\u001b[0m\u001b[0;34m]\u001b[0m\u001b[0;34m\u001b[0m\u001b[0;34m\u001b[0m\u001b[0m\n\u001b[1;32m     50\u001b[0m         \u001b[0my_av_y_2\u001b[0m \u001b[0;34m=\u001b[0m \u001b[0;34m[\u001b[0m\u001b[0mi\u001b[0m\u001b[0;34m**\u001b[0m\u001b[0;36m2\u001b[0m \u001b[0;32mfor\u001b[0m \u001b[0mi\u001b[0m \u001b[0;32min\u001b[0m \u001b[0my_av_y\u001b[0m\u001b[0;34m]\u001b[0m\u001b[0;34m\u001b[0m\u001b[0;34m\u001b[0m\u001b[0m\n\u001b[0;32m---> 51\u001b[0;31m         \u001b[0mei\u001b[0m \u001b[0;34m=\u001b[0m \u001b[0;34m[\u001b[0m\u001b[0mself\u001b[0m\u001b[0;34m.\u001b[0m\u001b[0mnew_y\u001b[0m\u001b[0;34m[\u001b[0m\u001b[0mi\u001b[0m\u001b[0;34m]\u001b[0m \u001b[0;34m-\u001b[0m \u001b[0my_\u001b[0m\u001b[0;34m[\u001b[0m\u001b[0mi\u001b[0m\u001b[0;34m]\u001b[0m \u001b[0;32mfor\u001b[0m \u001b[0mi\u001b[0m \u001b[0;32min\u001b[0m \u001b[0mrange\u001b[0m\u001b[0;34m(\u001b[0m\u001b[0mlen\u001b[0m\u001b[0;34m(\u001b[0m\u001b[0my_\u001b[0m\u001b[0;34m)\u001b[0m\u001b[0;34m)\u001b[0m\u001b[0;34m]\u001b[0m\u001b[0;34m\u001b[0m\u001b[0;34m\u001b[0m\u001b[0m\n\u001b[0m\u001b[1;32m     52\u001b[0m         \u001b[0mei_2\u001b[0m \u001b[0;34m=\u001b[0m \u001b[0;34m[\u001b[0m\u001b[0mi\u001b[0m\u001b[0;34m**\u001b[0m\u001b[0;36m2\u001b[0m \u001b[0;32mfor\u001b[0m \u001b[0mi\u001b[0m \u001b[0;32min\u001b[0m \u001b[0mei\u001b[0m\u001b[0;34m]\u001b[0m\u001b[0;34m\u001b[0m\u001b[0;34m\u001b[0m\u001b[0m\n\u001b[1;32m     53\u001b[0m         \u001b[0mAi\u001b[0m \u001b[0;34m=\u001b[0m \u001b[0;34m[\u001b[0m\u001b[0mabs\u001b[0m\u001b[0;34m(\u001b[0m\u001b[0;36m1\u001b[0m \u001b[0;34m-\u001b[0m \u001b[0;34m(\u001b[0m\u001b[0mself\u001b[0m\u001b[0;34m.\u001b[0m\u001b[0mnew_y\u001b[0m\u001b[0;34m[\u001b[0m\u001b[0mi\u001b[0m\u001b[0;34m]\u001b[0m \u001b[0;34m/\u001b[0m \u001b[0my_\u001b[0m\u001b[0;34m[\u001b[0m\u001b[0mi\u001b[0m\u001b[0;34m]\u001b[0m\u001b[0;34m)\u001b[0m\u001b[0;34m)\u001b[0m \u001b[0;32mfor\u001b[0m \u001b[0mi\u001b[0m \u001b[0;32min\u001b[0m \u001b[0mrange\u001b[0m\u001b[0;34m(\u001b[0m\u001b[0mlen\u001b[0m\u001b[0;34m(\u001b[0m\u001b[0my_\u001b[0m\u001b[0;34m)\u001b[0m\u001b[0;34m)\u001b[0m\u001b[0;34m]\u001b[0m\u001b[0;34m\u001b[0m\u001b[0;34m\u001b[0m\u001b[0m\n",
            "\u001b[0;32m<ipython-input-48-f3ba4c0b74cc>\u001b[0m in \u001b[0;36m<listcomp>\u001b[0;34m(.0)\u001b[0m\n\u001b[1;32m     49\u001b[0m         \u001b[0my_av_y\u001b[0m \u001b[0;34m=\u001b[0m \u001b[0;34m[\u001b[0m\u001b[0mi\u001b[0m \u001b[0;34m-\u001b[0m \u001b[0mav_y\u001b[0m \u001b[0;32mfor\u001b[0m \u001b[0mi\u001b[0m \u001b[0;32min\u001b[0m \u001b[0mself\u001b[0m\u001b[0;34m.\u001b[0m\u001b[0mnew_y\u001b[0m\u001b[0;34m]\u001b[0m\u001b[0;34m\u001b[0m\u001b[0;34m\u001b[0m\u001b[0m\n\u001b[1;32m     50\u001b[0m         \u001b[0my_av_y_2\u001b[0m \u001b[0;34m=\u001b[0m \u001b[0;34m[\u001b[0m\u001b[0mi\u001b[0m\u001b[0;34m**\u001b[0m\u001b[0;36m2\u001b[0m \u001b[0;32mfor\u001b[0m \u001b[0mi\u001b[0m \u001b[0;32min\u001b[0m \u001b[0my_av_y\u001b[0m\u001b[0;34m]\u001b[0m\u001b[0;34m\u001b[0m\u001b[0;34m\u001b[0m\u001b[0m\n\u001b[0;32m---> 51\u001b[0;31m         \u001b[0mei\u001b[0m \u001b[0;34m=\u001b[0m \u001b[0;34m[\u001b[0m\u001b[0mself\u001b[0m\u001b[0;34m.\u001b[0m\u001b[0mnew_y\u001b[0m\u001b[0;34m[\u001b[0m\u001b[0mi\u001b[0m\u001b[0;34m]\u001b[0m \u001b[0;34m-\u001b[0m \u001b[0my_\u001b[0m\u001b[0;34m[\u001b[0m\u001b[0mi\u001b[0m\u001b[0;34m]\u001b[0m \u001b[0;32mfor\u001b[0m \u001b[0mi\u001b[0m \u001b[0;32min\u001b[0m \u001b[0mrange\u001b[0m\u001b[0;34m(\u001b[0m\u001b[0mlen\u001b[0m\u001b[0;34m(\u001b[0m\u001b[0my_\u001b[0m\u001b[0;34m)\u001b[0m\u001b[0;34m)\u001b[0m\u001b[0;34m]\u001b[0m\u001b[0;34m\u001b[0m\u001b[0;34m\u001b[0m\u001b[0m\n\u001b[0m\u001b[1;32m     52\u001b[0m         \u001b[0mei_2\u001b[0m \u001b[0;34m=\u001b[0m \u001b[0;34m[\u001b[0m\u001b[0mi\u001b[0m\u001b[0;34m**\u001b[0m\u001b[0;36m2\u001b[0m \u001b[0;32mfor\u001b[0m \u001b[0mi\u001b[0m \u001b[0;32min\u001b[0m \u001b[0mei\u001b[0m\u001b[0;34m]\u001b[0m\u001b[0;34m\u001b[0m\u001b[0;34m\u001b[0m\u001b[0m\n\u001b[1;32m     53\u001b[0m         \u001b[0mAi\u001b[0m \u001b[0;34m=\u001b[0m \u001b[0;34m[\u001b[0m\u001b[0mabs\u001b[0m\u001b[0;34m(\u001b[0m\u001b[0;36m1\u001b[0m \u001b[0;34m-\u001b[0m \u001b[0;34m(\u001b[0m\u001b[0mself\u001b[0m\u001b[0;34m.\u001b[0m\u001b[0mnew_y\u001b[0m\u001b[0;34m[\u001b[0m\u001b[0mi\u001b[0m\u001b[0;34m]\u001b[0m \u001b[0;34m/\u001b[0m \u001b[0my_\u001b[0m\u001b[0;34m[\u001b[0m\u001b[0mi\u001b[0m\u001b[0;34m]\u001b[0m\u001b[0;34m)\u001b[0m\u001b[0;34m)\u001b[0m \u001b[0;32mfor\u001b[0m \u001b[0mi\u001b[0m \u001b[0;32min\u001b[0m \u001b[0mrange\u001b[0m\u001b[0;34m(\u001b[0m\u001b[0mlen\u001b[0m\u001b[0;34m(\u001b[0m\u001b[0my_\u001b[0m\u001b[0;34m)\u001b[0m\u001b[0;34m)\u001b[0m\u001b[0;34m]\u001b[0m\u001b[0;34m\u001b[0m\u001b[0;34m\u001b[0m\u001b[0m\n",
            "\u001b[0;31mIndexError\u001b[0m: index 12 is out of bounds for axis 0 with size 12"
          ]
        }
      ]
    },
    {
      "cell_type": "code",
      "metadata": {
        "id": "E3uzOX71K4ER"
      },
      "source": [
        ""
      ],
      "execution_count": null,
      "outputs": []
    }
  ]
}